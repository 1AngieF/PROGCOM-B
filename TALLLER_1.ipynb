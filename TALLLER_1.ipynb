{
  "nbformat": 4,
  "nbformat_minor": 0,
  "metadata": {
    "colab": {
      "name": "TALLLER 1",
      "provenance": []
    },
    "kernelspec": {
      "name": "python3",
      "display_name": "Python 3"
    },
    "language_info": {
      "name": "python"
    }
  },
  "cells": [
    {
      "cell_type": "markdown",
      "source": [
        "#TALLER 1"
      ],
      "metadata": {
        "id": "F3adewX9rHGE"
      }
    },
    {
      "cell_type": "markdown",
      "source": [
        "##EJERCICIO 1 ❤"
      ],
      "metadata": {
        "id": "eWlBVM1WrKqz"
      }
    },
    {
      "cell_type": "markdown",
      "source": [
        "1.\tEscriba un programa que solicite dos números enteros y calcule su división. El programa debe definir si la división es exacta o no. Si no es exacta, debe imprimir cuál es su residuo. ¿Qué debería imprimir el programa si la división es entre cero?"
      ],
      "metadata": {
        "id": "IaYa0f5Gx_0e"
      }
    },
    {
      "cell_type": "code",
      "source": [
        "NúmeroA=int(input(\"escriba su número\")) \n",
        "NúmeroB=int(input(\"escriba otro número\"))\n",
        "#División entera de dos números \n",
        "A=(NúmeroA//NúmeroB)\n",
        "B=(NúmeroA%NúmeroB)\n",
        "if 108<0: \n",
        "  print(\"eso jamas va a pasar\")\n",
        "elif 108>0: \n",
        "  print(\"como medio obvio\")   \n",
        "else: \n",
        "  print(\"los números son mayor que cero\")\n",
        "\n",
        "if 9<0:  \n",
        "    print(\"no es correcto\")\n",
        "elif 9>0: \n",
        "  print(\"es muy obvio\")\n",
        "\n",
        "\n",
        "\n"
      ],
      "metadata": {
        "colab": {
          "base_uri": "https://localhost:8080/"
        },
        "id": "sciL60sdzrWu",
        "outputId": "1a4e4f9d-a25e-4d86-c79f-79176d220baf"
      },
      "execution_count": null,
      "outputs": [
        {
          "output_type": "stream",
          "name": "stdout",
          "text": [
            "escriba su número108\n",
            "escriba otro número9\n",
            "como medio obvio\n",
            "es muy obvio\n"
          ]
        }
      ]
    },
    {
      "cell_type": "code",
      "source": [
        "type(108) \n",
        "type(9)"
      ],
      "metadata": {
        "colab": {
          "base_uri": "https://localhost:8080/"
        },
        "id": "v0SoF3p7x_be",
        "outputId": "f2cd50c1-b73e-4fbd-8b1c-86492aaa69a2"
      },
      "execution_count": null,
      "outputs": [
        {
          "output_type": "execute_result",
          "data": {
            "text/plain": [
              "int"
            ]
          },
          "metadata": {},
          "execution_count": 69
        }
      ]
    },
    {
      "cell_type": "markdown",
      "source": [
        "##EJERCICIO 2 ❤\n",
        "2.\tEscriba un programa que pida dos números e indique si uno es múltiplo del otro."
      ],
      "metadata": {
        "id": "ARikAGXiI1tA"
      }
    },
    {
      "cell_type": "code",
      "source": [
        "numX=int(input(\"diligencie su primer número\"))\n",
        "numY=int(input(\"diligencie su segundo número\"))\n",
        "res=int(numX%numY)\n",
        "if res==0:\n",
        "  print(\"obiamente los numeros son multiplos :v\")\n",
        "else:\n",
        "  print(\"claro que NO son multiplos\")"
      ],
      "metadata": {
        "id": "EhgistYWQL7E",
        "colab": {
          "base_uri": "https://localhost:8080/"
        },
        "outputId": "f4fce24d-625c-40a2-f187-6e1e40a82275"
      },
      "execution_count": 6,
      "outputs": [
        {
          "output_type": "stream",
          "name": "stdout",
          "text": [
            "diligencie su primer número6\n",
            "diligencie su segundo número2\n",
            "obiamente los numeros son multiplos :v\n"
          ]
        }
      ]
    },
    {
      "cell_type": "code",
      "source": [
        ""
      ],
      "metadata": {
        "id": "pWpJSYJpQGO2"
      },
      "execution_count": 4,
      "outputs": []
    },
    {
      "cell_type": "markdown",
      "source": [
        "##EJERCICIO 3 ⏰\n",
        "3.\tEscriba un programa que ordene, de menor a mayor, las edades de tres hermanos. ¿Qué pasaría si son gemelos? ¿Qué pasaría si son trillizos?"
      ],
      "metadata": {
        "id": "i2jDBeDdJQCv"
      }
    },
    {
      "cell_type": "code",
      "source": [
        ""
      ],
      "metadata": {
        "id": "xxkiYYwFUdcO"
      },
      "execution_count": null,
      "outputs": []
    },
    {
      "cell_type": "code",
      "source": [
        ""
      ],
      "metadata": {
        "id": "TX982MqNz3ue"
      },
      "execution_count": null,
      "outputs": []
    },
    {
      "cell_type": "markdown",
      "source": [
        "##EJERCICIO 4: ❤\n",
        "4.\tDIAN le ha contratado para identificar si una persona debe pagar impuesto de renta o no. ¿Qué datos debería suministrar? Escriba un programa con su solución."
      ],
      "metadata": {
        "id": "yPnVCrGAJVqO"
      }
    },
    {
      "cell_type": "code",
      "source": [
        "usu=input(\"ingrese el nombre de la persona : \")\n",
        "patr=float(input(\"ingrese el valor del patrimonio en bruto: \"))\n",
        "ingr=float(input(\"ingrese el monto de los ingresos recibidos durante la vigencia reciida del 1 Ene al 31 de Dic: \"))\n",
        "comp=float(input(\"ingrese el monto de las compras, patrimonio, vienes: \"))\n",
        "consig=float(input(\"ingrese el monto de los movimientos de las cuentas bancarias debito y credito: \"))\n",
        "pagtarj=float(input(\"ingrese el consumo anual de la tarjeta de crédito: \"))\n",
        "if float(ingr)>=50831000:\n",
        "  print(\"la persona\",usu, \"debes cumplur sus obligacines legales \")\n",
        "else:\n",
        "  print(\"\")\n",
        "  if float(patr)>=163663000:\n",
        "   print(\"la persona\",usu,\"debes cumplur tus obligacines legales \")\n",
        "  else:\n",
        "   print(\"\")\n",
        "   if float(comp)>=50831000:\n",
        "    print(\"la persona\",usu,\"debes cumplur sus obligacines legales \")\n",
        "   else:\n",
        "    print(\"\")\n",
        "    if float(consig)>=50831000:\n",
        "     print(\"la persona\" ,usu, \"debes cumplur sus obligacines legales \")\n",
        "    else:\n",
        "     print(\"\")\n",
        "     if float(pagtarj)>=50831000:\n",
        "      print(\"la persona\",usu,\"debes cumplur sus obligacines legales \")\n",
        "     else:\n",
        "      print(\"la persona\",usu,\" no debes cumplur sus obligacines legales \")"
      ],
      "metadata": {
        "id": "z2Yaj90KUf_a",
        "colab": {
          "base_uri": "https://localhost:8080/"
        },
        "outputId": "ea42891a-e165-4eec-a7ec-d1e7e4991492"
      },
      "execution_count": 3,
      "outputs": [
        {
          "output_type": "stream",
          "name": "stdout",
          "text": [
            "ingrese el nombre de la persona : BARBARA\n",
            "ingrese el valor del patrimonio en bruto: 20000000\n",
            "ingrese el monto de los ingresos recibidos durante la vigencia reciida del 1 Ene al 31 de Dic: 1000000\n",
            "ingrese el monto de las compras, patrimonio, vienes: 1500000\n",
            "ingrese el monto de los movimientos de las cuentas bancarias debito y credito: 9000000\n",
            "ingrese el consumo anual de la tarjeta de crédito: 900000\n",
            "\n",
            "\n",
            "\n",
            "\n",
            "la persona BARBARA  no debes cumplur sus obligacines legales \n"
          ]
        }
      ]
    },
    {
      "cell_type": "code",
      "source": [
        ""
      ],
      "metadata": {
        "id": "A9qQeVsh0LGN"
      },
      "execution_count": null,
      "outputs": []
    },
    {
      "cell_type": "markdown",
      "source": [
        "##EJERCICIO 5 ⏰\n",
        "5.\tEscriba un programa que, de acuerdo al código del estudiante, defina a qué universidad pertenece. \n",
        "\n",
        "a.\tSi el código empieza con U y tiene 8 dígitos, pertenece a la UNAB\n",
        "\n",
        "b.\tSi los cuatro primeros dígitos es mayor a 1950 , pertenece a la UIS.\n",
        "\n",
        "c.\tSi el código empieza con A y tres ceros seguidos, pertenece a los ANDES.\n",
        "\n",
        "d.\t1000 exp. adicional: Si el código de la UNAB termina en 26, debe imprimir que es ingeniero electrónico. Si termina en 32, ingeniero de sistemas. Si termina en 50, pertenece a ingeniería de administración de empresas. \n",
        "\n",
        "e.\t1000 xp. Adicional: Defina códigos con los dos últimos caracteres para la UIS y ANDES, de las mismas carreras.\n"
      ],
      "metadata": {
        "id": "glexlDvdJewP"
      }
    },
    {
      "cell_type": "code",
      "source": [
        ""
      ],
      "metadata": {
        "id": "T-x0ViUSUiDE"
      },
      "execution_count": null,
      "outputs": []
    },
    {
      "cell_type": "markdown",
      "source": [
        "## EJERCICIO 6 ❤\n",
        "6.\t Escriba un programa que le pregunte sus cuatro notas y calcule su promedio actual. Si su promedio es mayor a 4.5, se le diga que está eximido del último examen. Si su nota se encuentra entre 3.5 y 4.5 (intervalo abierto) se le indique que debe presentar el examen. Si la nota se encuentra entre 3 y 3.5 (intervalo abierto), se le indique que adicional al examen, debe presentar un trabajo. Si la nota está entre intervalo abierto entre 2 y 3, decir que debe presentar habilitación. De lo contrario, se le debe indicar al estudiante que perdió la materia irremediablemente."
      ],
      "metadata": {
        "id": "-8-9yfv1Jk62"
      }
    },
    {
      "cell_type": "code",
      "source": [
        "nota1=float(input(\"ingrese su primera nota: \"))\n",
        "nota2=float(input(\"ingrese su segunda nota: \"))\n",
        "nota3=float(input(\"ingrese su tercera nota: \"))\n",
        "nota4=float(input(\"ingrese su cuarta nota: \"))\n",
        "prom=float((nota1+nota2+nota3+nota4)/4)\n",
        "if prom>4.5:\n",
        "  print(\"ustde tiene un promedio de: \",prom)\n",
        "  print(\"se salvado del último parcial\")\n",
        "else:\n",
        "  if prom>3.5:\n",
        "    print(\"ustde tiene un promedio de: \",prom)\n",
        "    print(\"debe presentar parcial\")\n",
        "  else:\n",
        "    if prom>3.0:\n",
        "      print(\"ustde tiene un promedio de: \",prom)\n",
        "      print(\"debe presentar parcial y presentar un trabajo aadicional\")\n",
        "    else:\n",
        "      if prom>2.0:\n",
        "        print(\"ustde tiene un promedio de: \",prom)\n",
        "        print(\"debe presentar habilitación y con cuidado no hace reabilitacion :v\")\n",
        "      else:\n",
        "        print(\"ustde tiene un promedio de: \",prom)\n",
        "        print(\"perdio la materia :c\")"
      ],
      "metadata": {
        "id": "7tZloc3qUjux",
        "colab": {
          "base_uri": "https://localhost:8080/"
        },
        "outputId": "08522774-0e6d-4fda-8e16-31c404898b1d"
      },
      "execution_count": 28,
      "outputs": [
        {
          "output_type": "stream",
          "name": "stdout",
          "text": [
            "ingrese su primera nota: 15\n",
            "ingrese su segunda nota: 30\n",
            "ingrese su tercera nota: 25\n",
            "ingrese su cuarta nota: 40\n",
            "ustde tiene un promedio de:  27.5\n",
            "se salvado del último parcial\n"
          ]
        }
      ]
    },
    {
      "cell_type": "code",
      "source": [
        ""
      ],
      "metadata": {
        "id": "SXEoyvJ5AWlR"
      },
      "execution_count": null,
      "outputs": []
    },
    {
      "cell_type": "markdown",
      "source": [
        "## EJERCICIO 7  ⏰\n",
        "7.\tEscriba un programa que pregunte tu fecha de nacimiento, e indique cuántos días faltan para tu cumpleaños y cuántos años tienes."
      ],
      "metadata": {
        "id": "u2YIZC7CJrOe"
      }
    },
    {
      "cell_type": "code",
      "source": [
        "print(\"ingrese su fecha de nacimiento del dia, del mes y del año\") \n",
        "\n",
        "día=int(input(\"dia: \"))\n",
        "mes=int(input(\"mes: \"))\n",
        "año=int(input(\"año: \"))\n",
        "edad=int(2022-año) \n",
        "\n",
        "dia_mes_año=int(input(\"la fecha de hoy: \"))\n",
        "\n",
        "\n",
        "print(\"tienes \", edad, \" años\")"
      ],
      "metadata": {
        "id": "RNJCmo__UlUk",
        "colab": {
          "base_uri": "https://localhost:8080/",
          "height": 321
        },
        "outputId": "8deb9faa-4ef7-432e-eefe-c44f24a865cf"
      },
      "execution_count": 23,
      "outputs": [
        {
          "name": "stdout",
          "output_type": "stream",
          "text": [
            "ingrese su fecha de nacimiento del dia, del mes y del año\n",
            "dia: 07\n",
            "mes: 08\n",
            "año: 2000\n",
            "la fecha de hoy: 15/08/2022\n"
          ]
        },
        {
          "output_type": "error",
          "ename": "ValueError",
          "evalue": "ignored",
          "traceback": [
            "\u001b[0;31m---------------------------------------------------------------------------\u001b[0m",
            "\u001b[0;31mValueError\u001b[0m                                Traceback (most recent call last)",
            "\u001b[0;32m<ipython-input-23-6be4767befc0>\u001b[0m in \u001b[0;36m<module>\u001b[0;34m\u001b[0m\n\u001b[1;32m      6\u001b[0m \u001b[0medad\u001b[0m\u001b[0;34m=\u001b[0m\u001b[0mint\u001b[0m\u001b[0;34m(\u001b[0m\u001b[0;36m2022\u001b[0m\u001b[0;34m-\u001b[0m\u001b[0maño\u001b[0m\u001b[0;34m)\u001b[0m\u001b[0;34m\u001b[0m\u001b[0;34m\u001b[0m\u001b[0m\n\u001b[1;32m      7\u001b[0m \u001b[0;34m\u001b[0m\u001b[0m\n\u001b[0;32m----> 8\u001b[0;31m \u001b[0mdia_mes_año\u001b[0m\u001b[0;34m=\u001b[0m\u001b[0mint\u001b[0m\u001b[0;34m(\u001b[0m\u001b[0minput\u001b[0m\u001b[0;34m(\u001b[0m\u001b[0;34m\"la fecha de hoy: \"\u001b[0m\u001b[0;34m)\u001b[0m\u001b[0;34m)\u001b[0m\u001b[0;34m\u001b[0m\u001b[0;34m\u001b[0m\u001b[0m\n\u001b[0m\u001b[1;32m      9\u001b[0m \u001b[0;34m\u001b[0m\u001b[0m\n\u001b[1;32m     10\u001b[0m \u001b[0;34m\u001b[0m\u001b[0m\n",
            "\u001b[0;31mValueError\u001b[0m: invalid literal for int() with base 10: '15/08/2022'"
          ]
        }
      ]
    },
    {
      "cell_type": "markdown",
      "source": [
        "## EJERCICIO 8 ❤\n",
        "8.\tEscriba un programa que defina si un número es bisiesto. (Un año es bisiesto cuando son múltiplos de 4, pero no son múltiplos de 100."
      ],
      "metadata": {
        "id": "NUGHNwkBJ1Ce"
      }
    },
    {
      "cell_type": "code",
      "source": [
        "num=int(input(\"ingrese un numero: \"))\n",
        "if num%4==0 and num%100==0 or num%400==0:\n",
        "  print(\" este numero claro que es bisiesto\")\n",
        "else:\n",
        "  print(\"este numero NO es bisiesto\")"
      ],
      "metadata": {
        "id": "bfysnPCXUnhe",
        "colab": {
          "base_uri": "https://localhost:8080/"
        },
        "outputId": "8c4798a6-4555-45ec-8ea0-94a7d3e1fb29"
      },
      "execution_count": 7,
      "outputs": [
        {
          "output_type": "stream",
          "name": "stdout",
          "text": [
            "ingrese un numero: 2018\n",
            "este numero NO es bisiesto\n"
          ]
        }
      ]
    },
    {
      "cell_type": "markdown",
      "source": [
        "## EJERCICIO 9 ⏰\n",
        "9.\tEscriba un programa que solicite los coeficientes de la ecuación de la recta ax+b=0 y escriba la solución."
      ],
      "metadata": {
        "id": "Om_9K5HCKDYG"
      }
    },
    {
      "cell_type": "code",
      "source": [
        ""
      ],
      "metadata": {
        "id": "B2VbUojNUonQ"
      },
      "execution_count": null,
      "outputs": []
    },
    {
      "cell_type": "markdown",
      "source": [
        "## EJERCICIO 10 ❤\n",
        "10.\tEscriba un programa que halle la pendiente de la recta ax+b=c.  "
      ],
      "metadata": {
        "id": "HaII2TILKHpf"
      }
    },
    {
      "cell_type": "code",
      "source": [
        "punto1=float(input(\"ingrese x1: \"))\n",
        "punto2=float(input(\"ingrese x2: \"))\n",
        "punto3=float(input(\"ingrese y1: \"))\n",
        "punto4=float(input(\"ingrese y2: \"))\n",
        "m =float(punto3-punto4) / (punto1-punto2)\n",
        "print(\"la pendiente que esta hayando es m=\",m)"
      ],
      "metadata": {
        "id": "ylHPMraXUp7N",
        "colab": {
          "base_uri": "https://localhost:8080/"
        },
        "outputId": "93e8b10d-d104-4439-f136-45e4bbd58983"
      },
      "execution_count": 30,
      "outputs": [
        {
          "output_type": "stream",
          "name": "stdout",
          "text": [
            "ingrese x1: 1\n",
            "ingrese x2: 6\n",
            "ingrese y1: 9\n",
            "ingrese y2: 11\n",
            "la pendiente que esta hayando es m= 0.4\n"
          ]
        }
      ]
    },
    {
      "cell_type": "markdown",
      "source": [
        "## EJERCICIO 11 ⏰\n",
        "11.\tEscriba un programa que pida los coeficientes de una ecuación de segundo grado (a x² + b x + c = 0) y escriba la solución.\n",
        "Se recuerda que una ecuación de segundo grado puede no tener solución, tener una solución única, tener dos soluciones o que todos los números sean solución. Se recuerda que la fórmula de las soluciones cuando hay dos soluciones es x = (-b ± √(b2-4ac) ) / (2a)\n"
      ],
      "metadata": {
        "id": "XI53piJGKXg-"
      }
    },
    {
      "cell_type": "code",
      "source": [
        ""
      ],
      "metadata": {
        "id": "U0wXUPRaUrWU"
      },
      "execution_count": null,
      "outputs": []
    },
    {
      "cell_type": "markdown",
      "source": [
        "##EJERCICIO 12 ⏰\n",
        "12.\tEscriba un programa que sirva para evaluar si un estudiante sabe sumar, restar, multiplicar o dividir. Para ello, debe\n",
        "\n",
        "a.\tSolicitarle al usuario qué operación desea probar\n",
        "\n",
        "b.\tLa operación que aparecerá deberá tener dos números aleatorios.\n",
        "\n",
        "c.\tEl programa definirá si el usuario acertó, o no.\n"
      ],
      "metadata": {
        "id": "qxot7uSoPvry"
      }
    },
    {
      "cell_type": "code",
      "source": [
        ""
      ],
      "metadata": {
        "id": "EsTXSTb_QEP5"
      },
      "execution_count": null,
      "outputs": []
    },
    {
      "cell_type": "markdown",
      "source": [
        "##EJERCICIO 13 ⏰\n",
        "13.\tRealizar programa que permita convertir:\n",
        "\n",
        "a.\tcm a metros\n",
        "\n",
        "b.\tcm a km\n",
        "\n",
        "c.\tmetros a km\n",
        "\n",
        "d.\tkm a cm \n",
        "\n",
        "e.\tkm a  m.\n"
      ],
      "metadata": {
        "id": "VAFsc2qJR8Dy"
      }
    },
    {
      "cell_type": "code",
      "source": [
        ""
      ],
      "metadata": {
        "id": "ZZ3VjWlBU6zn"
      },
      "execution_count": null,
      "outputs": []
    },
    {
      "cell_type": "markdown",
      "source": [
        "## EJERCICIO 14  ⏰\n",
        "14.\tRealizar un programa que solicite al usuario que escriba una letra, y defina si es vocal o consonante. El programa no debe funcionar (o indicar que es un error) si se intenta ingresar más de una letra o un número."
      ],
      "metadata": {
        "id": "2KbyNecfR8R2"
      }
    },
    {
      "cell_type": "code",
      "source": [
        ""
      ],
      "metadata": {
        "id": "Dly_2JEVVhca"
      },
      "execution_count": null,
      "outputs": []
    },
    {
      "cell_type": "markdown",
      "source": [
        "##EJERCICIO 15 ⏰\n",
        "15.\tEscribir un programa que, dado un número entero, muestre su valor absoluto. "
      ],
      "metadata": {
        "id": "0ZDkdI6XR8hZ"
      }
    },
    {
      "cell_type": "code",
      "source": [
        ""
      ],
      "metadata": {
        "id": "fz0BubUnVkKz"
      },
      "execution_count": null,
      "outputs": []
    },
    {
      "cell_type": "markdown",
      "source": [
        "##EJERCICIO 16 ⏰\n",
        "16.\tRealizar un programa que solicite al usuario que ingrese los nombres de dos usuarios los cuáles se almacenarán en user1 y user2. A continuación, imprimir “coincidencia” si los nombres de ambas personas comienzan con la misma letra o si terminan con la misma letra. Si no es así, imprimir “no hay coincidencia”."
      ],
      "metadata": {
        "id": "-jJFRNLNR8wb"
      }
    },
    {
      "cell_type": "code",
      "source": [
        ""
      ],
      "metadata": {
        "id": "g-aJqDJEVmnM"
      },
      "execution_count": null,
      "outputs": []
    },
    {
      "cell_type": "markdown",
      "source": [
        "## EJERCICIO 17  ⏰\n",
        "17.\tEscribir un programa que le permita al usuario elegir un candidato por el cual votar: Candidato A por el partido Alfa, Candidato B, por el partido Beta, Candidato C por el partido gamma. Cuando el usuario introduce A, B o C, deberá imprimir por cuál candidato y partido ha votado. Si el usuario introduce otra letra, el programa debe indicarle que ha cometido un error."
      ],
      "metadata": {
        "id": "zeVPkyiESlz4"
      }
    },
    {
      "cell_type": "code",
      "source": [
        ""
      ],
      "metadata": {
        "id": "ClKys_g7Vn4j"
      },
      "execution_count": null,
      "outputs": []
    },
    {
      "cell_type": "markdown",
      "source": [
        "##EJERCICIO 18 ⏰\n",
        "18.\tEscribir un programa que separe un número en sus unidades, decenas y centenas."
      ],
      "metadata": {
        "id": "8CRLklbUSmNh"
      }
    },
    {
      "cell_type": "code",
      "source": [
        ""
      ],
      "metadata": {
        "id": "Qeo3r4FJVpdo"
      },
      "execution_count": null,
      "outputs": []
    },
    {
      "cell_type": "markdown",
      "source": [
        "##EJERCICIO 19 ⏰\n",
        "19.\tEscribir un programa que lea una palabra y defina si es un palíndromo. NOTA: Un palíndromo es una palabra que se lee igual adelante y hacia atrás."
      ],
      "metadata": {
        "id": "7k2BSfdcSm_8"
      }
    },
    {
      "cell_type": "code",
      "source": [
        ""
      ],
      "metadata": {
        "id": "npYtFPcfVu2K"
      },
      "execution_count": null,
      "outputs": []
    },
    {
      "cell_type": "markdown",
      "source": [
        "##EJERCICIO 20 ⏰\n",
        "20.\tEscribir un programa que lea un número y defina si es o no un palíndromo."
      ],
      "metadata": {
        "id": "sILCOfdVSnXM"
      }
    },
    {
      "cell_type": "code",
      "source": [
        ""
      ],
      "metadata": {
        "id": "B-cUj1B-VwXh"
      },
      "execution_count": null,
      "outputs": []
    }
  ]
}
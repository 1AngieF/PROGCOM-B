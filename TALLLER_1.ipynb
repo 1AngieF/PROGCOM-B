{
  "nbformat": 4,
  "nbformat_minor": 0,
  "metadata": {
    "colab": {
      "name": "TALLLER 1",
      "provenance": []
    },
    "kernelspec": {
      "name": "python3",
      "display_name": "Python 3"
    },
    "language_info": {
      "name": "python"
    }
  },
  "cells": [
    {
      "cell_type": "markdown",
      "source": [
        "#TALLER 1"
      ],
      "metadata": {
        "id": "F3adewX9rHGE"
      }
    },
    {
      "cell_type": "markdown",
      "source": [
        "##EJERCICIO 1"
      ],
      "metadata": {
        "id": "eWlBVM1WrKqz"
      }
    },
    {
      "cell_type": "markdown",
      "source": [
        "1.\tEscriba un programa que solicite dos números enteros y calcule su división. El programa debe definir si la división es exacta o no. Si no es exacta, debe imprimir cuál es su residuo. ¿Qué debería imprimir el programa si la división es entre cero?"
      ],
      "metadata": {
        "id": "IaYa0f5Gx_0e"
      }
    },
    {
      "cell_type": "code",
      "source": [
        "NúmeroA=int(input(\"escriba su número\")) \n",
        "NúmeroB=int(input(\"escriba otro número\"))\n",
        "#División entera de dos números \n",
        "A=(NúmeroA//NúmeroB)\n",
        "B=(NúmeroA%NúmeroB)\n",
        "if 108<0: \n",
        "  print(\"eso jamas va a pasar\")\n",
        "elif 108>0: \n",
        "  print(\"como medio obvio\")   \n",
        "else: \n",
        "  print(\"los números son mayor que cero\")\n",
        "\n",
        "if 9<0:  \n",
        "    print(\"no es correcto\")\n",
        "elif 9>0: \n",
        "  print(\"es muy obvio\")\n",
        "\n",
        "\n",
        "\n"
      ],
      "metadata": {
        "colab": {
          "base_uri": "https://localhost:8080/"
        },
        "id": "sciL60sdzrWu",
        "outputId": "1a4e4f9d-a25e-4d86-c79f-79176d220baf"
      },
      "execution_count": 68,
      "outputs": [
        {
          "output_type": "stream",
          "name": "stdout",
          "text": [
            "escriba su número108\n",
            "escriba otro número9\n",
            "como medio obvio\n",
            "es muy obvio\n"
          ]
        }
      ]
    },
    {
      "cell_type": "code",
      "source": [
        "type(108) \n",
        "type(9)"
      ],
      "metadata": {
        "colab": {
          "base_uri": "https://localhost:8080/"
        },
        "id": "v0SoF3p7x_be",
        "outputId": "f2cd50c1-b73e-4fbd-8b1c-86492aaa69a2"
      },
      "execution_count": 69,
      "outputs": [
        {
          "output_type": "execute_result",
          "data": {
            "text/plain": [
              "int"
            ]
          },
          "metadata": {},
          "execution_count": 69
        }
      ]
    },
    {
      "cell_type": "markdown",
      "source": [
        "EJERCICIO 2\n",
        "2.\tEscriba un programa que pida dos números e indique si uno es múltiplo del otro."
      ],
      "metadata": {
        "id": "ARikAGXiI1tA"
      }
    },
    {
      "cell_type": "markdown",
      "source": [
        "EJERCICIO 3\n",
        "3.\tEscriba un programa que ordene, de menor a mayor, las edades de tres hermanos. ¿Qué pasaría si son gemelos? ¿Qué pasaría si son trillizos?"
      ],
      "metadata": {
        "id": "i2jDBeDdJQCv"
      }
    },
    {
      "cell_type": "markdown",
      "source": [
        "EJERCICIO 4\n",
        "4.\tDIAN le ha contratado para identificar si una persona debe pagar impuesto de renta o no. ¿Qué datos debería suministrar? Escriba un programa con su solución."
      ],
      "metadata": {
        "id": "yPnVCrGAJVqO"
      }
    },
    {
      "cell_type": "markdown",
      "source": [
        "EJERCICIO 5 \n",
        "5.\tEscriba un programa que, de acuerdo al código del estudiante, defina a qué universidad pertenece. \n",
        "a.\tSi el código empieza con U y tiene 8 dígitos, pertenece a la UNAB\n",
        "b.\tSi los cuatro primeros dígitos es mayor a 1950 , pertenece a la UIS.\n",
        "c.\tSi el código empieza con A y tres ceros seguidos, pertenece a los ANDES.\n",
        "d.\t1000 exp. adicional: Si el código de la UNAB termina en 26, debe imprimir que es ingeniero electrónico. Si termina en 32, ingeniero de sistemas. Si termina en 50, pertenece a ingeniería de administración de empresas. \n",
        "e.\t1000 xp. Adicional: Defina códigos con los dos últimos caracteres para la UIS y ANDES, de las mismas carreras.\n"
      ],
      "metadata": {
        "id": "glexlDvdJewP"
      }
    },
    {
      "cell_type": "markdown",
      "source": [
        "EJERCICIO 6 \n",
        "6.\t Escriba un programa que le pregunte sus cuatro notas y calcule su promedio actual. Si su promedio es mayor a 4.5, se le diga que está eximido del último examen. Si su nota se encuentra entre 3.5 y 4.5 (intervalo abierto) se le indique que debe presentar el examen. Si la nota se encuentra entre 3 y 3.5 (intervalo abierto), se le indique que adicional al examen, debe presentar un trabajo. Si la nota está entre intervalo abierto entre 2 y 3, decir que debe presentar habilitación. De lo contrario, se le debe indicar al estudiante que perdió la materia irremediablemente."
      ],
      "metadata": {
        "id": "-8-9yfv1Jk62"
      }
    },
    {
      "cell_type": "markdown",
      "source": [
        "EJERCICIO 7\n",
        "7.\tEscriba un programa que pregunte tu fecha de nacimiento, e indique cuántos días faltan para tu cumpleaños y cuántos años tienes."
      ],
      "metadata": {
        "id": "u2YIZC7CJrOe"
      }
    },
    {
      "cell_type": "markdown",
      "source": [
        "EJJERCICIO 8 \n",
        "8.\tEscriba un programa que defina si un número es bisiesto. (Un año es bisiesto cuando son múltiplos de 4, pero no son múltiplos de 100."
      ],
      "metadata": {
        "id": "NUGHNwkBJ1Ce"
      }
    },
    {
      "cell_type": "markdown",
      "source": [
        "EJERCICIO 9\n",
        "9.\tEscriba un programa que solicite los coeficientes de la ecuación de la recta ax+b=0 y escriba la solución."
      ],
      "metadata": {
        "id": "Om_9K5HCKDYG"
      }
    },
    {
      "cell_type": "markdown",
      "source": [
        "EJERCICIO 10\n",
        "10.\tEscriba un programa que halle la pendiente de la recta ax+b=c.  "
      ],
      "metadata": {
        "id": "HaII2TILKHpf"
      }
    },
    {
      "cell_type": "markdown",
      "source": [
        "EJERCICIO 11\n",
        "11.\tEscriba un programa que pida los coeficientes de una ecuación de segundo grado (a x² + b x + c = 0) y escriba la solución.\n",
        "Se recuerda que una ecuación de segundo grado puede no tener solución, tener una solución única, tener dos soluciones o que todos los números sean solución. Se recuerda que la fórmula de las soluciones cuando hay dos soluciones es x = (-b ± √(b2-4ac) ) / (2a)\n"
      ],
      "metadata": {
        "id": "XI53piJGKXg-"
      }
    }
  ]
}
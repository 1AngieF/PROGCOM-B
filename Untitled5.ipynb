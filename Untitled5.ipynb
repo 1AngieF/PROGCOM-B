{
  "nbformat": 4,
  "nbformat_minor": 0,
  "metadata": {
    "colab": {
      "provenance": []
    },
    "kernelspec": {
      "name": "python3",
      "display_name": "Python 3"
    },
    "language_info": {
      "name": "python"
    }
  },
  "cells": [
    {
      "cell_type": "code",
      "execution_count": null,
      "metadata": {
        "id": "8DCyw1mGS5o4"
      },
      "outputs": [],
      "source": []
    },
    {
      "cell_type": "markdown",
      "source": [
        "el profesor dicta tres clases y de esas clases necesita sacar  \n",
        "mejor nota de cada clase de las tres clases con n estudantes, y cada estuante tiene n notas y sacar cual fue el peor estudiante con la peor clase.\n",
        "\n",
        "\n",
        "HACERLO EN UN DICCIONARIO "
      ],
      "metadata": {
        "id": "pIFAMD_lS6A3"
      }
    },
    {
      "cell_type": "code",
      "source": [
        "import operator\n",
        "curso={}\n",
        "dec1='S'\n",
        "name=''\n",
        "while dec1.upper()!='N':\n",
        "    name=input(\"Ingrese el nombre del curso: \")\n",
        "    n = float(input(\"Ingrese el número de notas a promediar: \"))\n",
        "    suma = 0 \n",
        "    i = 1 #Variable de control del ciclo\n",
        "    while (i <= n): #Iteramos teniendo en cuenta la cantidad de notas\n",
        "        print(\"Ingrese la nota número \",i) #Solicitamos las notas\n",
        "        nota = float(input())\n",
        "        suma=suma+nota #Sumamos en cada iteración a la variable suma\n",
        "        i+=1 #Incrementamos la variable de control\n",
        "    prom = suma / n #Promediamos\n",
        "    print(\"El promedio de notas es: \",prom)\n",
        "    curso[name]=prom\n",
        "    dec1=input(\"¿Desea ingresar los datos de otro curso?: (S/N)\")\n",
        "\n",
        "print(\"Los promedios de los cursos son: \",curso)\n",
        "maximo= max(curso.items(), key=operator.itemgetter(1))[0]\n",
        "print(\"El curso con mayor promedio es: \",maximo,\"Cuyo promedio es: \",curso[maximo])"
      ],
      "metadata": {
        "colab": {
          "base_uri": "https://localhost:8080/"
        },
        "id": "IaMdVcGrXQjo",
        "outputId": "4bcdc716-9664-4860-f458-23a314524323"
      },
      "execution_count": null,
      "outputs": [
        {
          "output_type": "stream",
          "name": "stdout",
          "text": [
            "Ingrese el nombre del curso: curso 1\n",
            "Ingrese el número de notas a promediar: 30\n",
            "Ingrese la nota número  1\n",
            "20\n",
            "Ingrese la nota número  2\n",
            "30\n",
            "Ingrese la nota número  3\n",
            "50\n",
            "Ingrese la nota número  4\n",
            "90\n",
            "Ingrese la nota número  5\n",
            "10\n",
            "Ingrese la nota número  6\n",
            "15\n",
            "Ingrese la nota número  7\n",
            "19\n",
            "Ingrese la nota número  8\n",
            "30\n",
            "Ingrese la nota número  9\n",
            "20\n",
            "Ingrese la nota número  10\n",
            "25\n",
            "Ingrese la nota número  11\n",
            "26\n",
            "Ingrese la nota número  12\n",
            "29\n",
            "Ingrese la nota número  13\n",
            "40\n",
            "Ingrese la nota número  14\n",
            "19\n",
            "Ingrese la nota número  15\n"
          ]
        }
      ]
    }
  ]
}
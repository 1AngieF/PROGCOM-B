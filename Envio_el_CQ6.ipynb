{
  "nbformat": 4,
  "nbformat_minor": 0,
  "metadata": {
    "colab": {
      "provenance": []
    },
    "kernelspec": {
      "name": "python3",
      "display_name": "Python 3"
    },
    "language_info": {
      "name": "python"
    }
  },
  "cells": [
    {
      "cell_type": "code",
      "execution_count": null,
      "metadata": {
        "id": "S8QWUgYjMt32"
      },
      "outputs": [],
      "source": []
    },
    {
      "cell_type": "markdown",
      "source": [
        "Cordialmente \n",
        "Buen dia \n",
        "Envio el CQ6 \n",
        "\n",
        "https://www.canva.com/design/DAFJuUV5VRE/DeIPCTN0oFtPn7jvuVSOhw/watch?utm_content=DAFJuUV5VRE&utm_campaign=designshare&utm_medium=link&utm_source=publishsharelink\n",
        "\n",
        "Angie González \n",
        "ID U00156436\n",
        "Estudiante Ing Biomedica"
      ],
      "metadata": {
        "id": "LV34enCyMx6c"
      }
    }
  ]
}
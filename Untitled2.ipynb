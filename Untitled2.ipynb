{
  "nbformat": 4,
  "nbformat_minor": 0,
  "metadata": {
    "colab": {
      "provenance": []
    },
    "kernelspec": {
      "name": "python3",
      "display_name": "Python 3"
    },
    "language_info": {
      "name": "python"
    }
  },
  "cells": [
    {
      "cell_type": "code",
      "execution_count": null,
      "metadata": {
        "id": "XcaOtQ8BLP59"
      },
      "outputs": [],
      "source": []
    },
    {
      "cell_type": "markdown",
      "source": [
        "# ***`ejercico 1 `***\n"
      ],
      "metadata": {
        "id": "YXb1ljIVMR3l"
      }
    },
    {
      "cell_type": "code",
      "source": [
        "class mascota: #class: Sirve para crear un tipo de dato definido por el usuario.\n",
        "  def ruido(self,texto):\n",
        "    print(texto)\n",
        "toby=mascota()\n",
        "toby.ruido(\"Estoy ladrando fuertemente\")"
      ],
      "metadata": {
        "colab": {
          "base_uri": "https://localhost:8080/"
        },
        "id": "fAhrmTx6NOlO",
        "outputId": "2ea88f7e-d284-4f3c-d579-4ef4cd395c8b"
      },
      "execution_count": null,
      "outputs": [
        {
          "output_type": "stream",
          "name": "stdout",
          "text": [
            "Estoy ladrando fuertemente\n"
          ]
        }
      ]
    },
    {
      "cell_type": "markdown",
      "source": [
        "# ***`ejercico 2`***"
      ],
      "metadata": {
        "id": "Z8KcRDnzNxtI"
      }
    },
    {
      "cell_type": "code",
      "source": [
        "x= 20\n",
        "y= None #None: Es un tipo de dato de phyton que representa la ausencia de un valor, es usado cuando se necesita almacenar algo que no se confunda con un valor real en una variable.\n",
        "try:   # try - except: Son bloques usados cuando el codigo a ejecutar podria presentar errores , asi que se ejecuta el codigo despues de try y sí arroja algun error se ejecuta lo que este despúes del except.\n",
        "  z=x+y\n",
        "  print(z)\n",
        "except:\n",
        "  print(\"Una de las variables esta vacía\")"
      ],
      "metadata": {
        "colab": {
          "base_uri": "https://localhost:8080/"
        },
        "id": "DzmY0aNBN4go",
        "outputId": "bf430f06-b82c-41e7-836d-bed3d328aaef"
      },
      "execution_count": null,
      "outputs": [
        {
          "output_type": "stream",
          "name": "stdout",
          "text": [
            "Una de las variables esta vacía\n"
          ]
        }
      ]
    },
    {
      "cell_type": "markdown",
      "source": [
        "# ***ejercicio 3***"
      ],
      "metadata": {
        "id": "YVKICOUmN_HY"
      }
    },
    {
      "cell_type": "code",
      "source": [
        "from random import randint   #from:Es una palabra reservada de Python que le permite al código utilizar variables, funciones, clases, excepciones y cualquier otro objeto que estén dentro de un módulo.\n",
        "NUM1=int(randint(0,100))\n",
        "NUM2=int(randint(0,100))\n",
        "\n",
        "print(\"¡Bienvenido!,evalua tus conocimientos,elige la operación que desees:\")\n",
        "print(\"Digita A, si deseas SUMAR \")\n",
        "print(\"Digita B, si deseas RESTAR \")\n",
        "print(\"Digita C, si deseas MULTIPLICAR \")\n",
        "print(\"Digita D, si deseas DIVIDIR \")\n",
        "\n",
        "X=str(input(\"¿A,B,C,D? \"))\n",
        "X=X.lower()\n",
        "\n",
        "if X==\"a\":\n",
        "  print(\"Resuelve la siguiente suma\",NUM1,\"+\",NUM2)\n",
        "  RTA=NUM1+NUM2\n",
        "  RESPUESTA=int(input(\"Digite la respuesta \"))\n",
        "  if RESPUESTA==RTA:\n",
        "    print(\"En hora buena!\")\n",
        "  else:\n",
        "    print(\"Te has equivocado\")\n",
        "elif X==\"b\":\n",
        "  print(\"Resuelve la siguiente resta\",NUM1,\"-\",NUM2)\n",
        "  RTA=NUM1-NUM2\n",
        "  RESPUESTA=int(input(\"Digite la respuesta \"))\n",
        "  if RESPUESTA==RTA:\n",
        "    print(\"En hora buena!\")\n",
        "  else:\n",
        "    print(\"Te has equivocado\")\n",
        "elif X==\"c\":\n",
        "  print(\"Resuelve la siguiente multiplicación\",NUM1,\"X\",NUM2)\n",
        "  RTA=NUM1*NUM2\n",
        "  RESPUESTA=int(input(\"Digite la respuesta \"))\n",
        "  if RESPUESTA==RTA:\n",
        "    print(\"En hora buena!\")\n",
        "  else:\n",
        "    print(\"Te has equivocado\")\n",
        "elif X==\"d\":\n",
        "  print(\"Resuelve la siguiente división\",NUM1,\"/\",NUM2)\n",
        "  RTA=NUM1/NUM2\n",
        "  RESPUESTA=int(input(\"Digite la respuesta \"))\n",
        "  if RESPUESTA==RTA:\n",
        "    print(\"En hora buena!\")\n",
        "  else:\n",
        "    print(\"Te has equivocado\")"
      ],
      "metadata": {
        "colab": {
          "base_uri": "https://localhost:8080/"
        },
        "id": "gi6ogiIgOdd1",
        "outputId": "4f28ee45-c093-4bf1-f003-faacac715964"
      },
      "execution_count": null,
      "outputs": [
        {
          "output_type": "stream",
          "name": "stdout",
          "text": [
            "¡Bienvenido!,evalua tus conocimientos,elige la operación que desees:\n",
            "Digita A, si deseas SUMAR \n",
            "Digita B, si deseas RESTAR \n",
            "Digita C, si deseas MULTIPLICAR \n",
            "Digita D, si deseas DIVIDIR \n",
            "¿A,B,C,D? a\n",
            "Resuelve la siguiente suma 77 + 56\n",
            "Digite la respuesta 113\n",
            "Te has equivocado\n"
          ]
        }
      ]
    },
    {
      "cell_type": "markdown",
      "source": [
        "4"
      ],
      "metadata": {
        "id": "AukPguBfPQj-"
      }
    },
    {
      "cell_type": "code",
      "source": [
        "n=\"*\"\n",
        "\n",
        "for i in range (1,11,1): #for:Es un bucle usado para recorrer los elementos de una lista, tupla, conjunto, diccionario u otro objeto iterable y ejecutar un bloque de código.\n",
        " print((n*i).center(20))  #in: Es un operador que identifica pertencia en alguna secuencia como una lista, un rango, una tupla,...que devuelve el dato si el valor especificado se encuentra en la seccuencia.\n",
        " "
      ],
      "metadata": {
        "colab": {
          "base_uri": "https://localhost:8080/"
        },
        "id": "6jsTFPV_PRMm",
        "outputId": "a0b50373-34db-4893-b54d-56a152a4a0a2"
      },
      "execution_count": null,
      "outputs": [
        {
          "output_type": "stream",
          "name": "stdout",
          "text": [
            "         *          \n",
            "         **         \n",
            "        ***         \n",
            "        ****        \n",
            "       *****        \n",
            "       ******       \n",
            "      *******       \n",
            "      ********      \n",
            "     *********      \n",
            "     **********     \n"
          ]
        }
      ]
    },
    {
      "cell_type": "markdown",
      "source": [
        "5"
      ],
      "metadata": {
        "id": "n3kJ1b7JPSP2"
      }
    },
    {
      "cell_type": "code",
      "source": [
        "N=int(input(\"Digita un número\"))\n",
        "def valor_absoluto(número): # def:Se usa para definir nuestras propias funciones, se define con un nombre, un argumento, un código a ejecutar y unos parámetros de salida.Tambien se puede llamar en cualquier parte del código usando otro argumento.\n",
        "  if número >=0:\n",
        "    return número  #RETURN: Es la expresión que permite terminar la ejecución de una función y devolver un valor.\n",
        "  else:\n",
        "    return - número\n",
        "print(valor_absoluto(N)) "
      ],
      "metadata": {
        "colab": {
          "base_uri": "https://localhost:8080/"
        },
        "id": "mCtFUuiFPSqO",
        "outputId": "c08a257e-40d5-4e3f-8def-0a61e9c70441"
      },
      "execution_count": null,
      "outputs": [
        {
          "output_type": "stream",
          "name": "stdout",
          "text": [
            "Digita un número8\n",
            "8\n"
          ]
        }
      ]
    },
    {
      "cell_type": "markdown",
      "source": [
        "6"
      ],
      "metadata": {
        "id": "RAvtmR4jPt31"
      }
    },
    {
      "cell_type": "code",
      "source": [
        "L=str(input(\"Digita una letra \"))\n",
        "L=L.lower()\n",
        "if L==\"a\" or L==\"e\" or L==\"i\" or L==\"o\" or L==\"u\": # OR:Es uno de los operadores lógicos de python y evalúa si uno de los valores del lado izquierdo o del lado derecho es verdadero.\n",
        "  print(L, \"es una vocal\")\n",
        "else:\n",
        "  print(L, \"es una consonante\")"
      ],
      "metadata": {
        "colab": {
          "base_uri": "https://localhost:8080/"
        },
        "id": "7NxRQttSPuN9",
        "outputId": "a70a85a9-0cb9-4891-d066-34ec35e56b98"
      },
      "execution_count": null,
      "outputs": [
        {
          "output_type": "stream",
          "name": "stdout",
          "text": [
            "Digita una letra j\n",
            "j es una consonante\n"
          ]
        }
      ]
    },
    {
      "cell_type": "markdown",
      "source": [
        "7"
      ],
      "metadata": {
        "id": "wyZD8dBGPyCl"
      }
    },
    {
      "cell_type": "code",
      "source": [
        "import random #IMPORT:Lo usamos para importar o traer a nuestro código alguna libreria o funcion disponible en python que se necesite.\n",
        "import time\n",
        "print(\"Bienvenido!,esto es PIEDRA PAPEL O TIJERA\")\n",
        "print(\" \")\n",
        "\n",
        "while True: #WHILE:Es un ciclo que se usa cuando no se sabe cuantas veces se repite una acción.  TRUE:Se usa para indicarle al código que mientras la condición sea verdadera se ejecuta el cuerpo del bucle.\n",
        "  YOU=input(\"Para empezar a jugar digita piedra, papel o tijera - \").lower()\n",
        "  time.sleep(0.4)\n",
        "  PC=random.choice([\"piedra\", \"tijera\", \"papel\"]) \n",
        "  time.sleep(0.4)\n",
        "  if YOU!=\"piedra\" and YOU!=\"papel\" and YOU!=\"tijera\":\n",
        "    time.sleep(0.4)\n",
        "    print(\"OJO! Digita una opción valida\")\n",
        "    print(\" \")\n",
        "    continue  #CONTINUE:Se usa para indicarle al código que si se cumple esa condicion, se reininicia el codigo y si no, pasa el ciclo ejecutando el cuerpo de bucle.\n",
        "\n",
        "  if YOU==PC: #IF:Es una condición que evalua un bloque de código, sí la condición es verdadera se ejecuta.\n",
        "    print(\"\\U0001F922 EMPATE. Has elegido\",YOU,\"y el pc ha elegido:\",PC) \n",
        "    time.sleep(0.4)\n",
        "    print(\" \")\n",
        "  elif YOU==\"piedra\" and PC==\"tijera\": #ELIF: Permite la ejecución de múltiples condiciones de forma jerárquica\n",
        "    print(\"HAS GANADO!. Has elegido\",YOU,\"y el pc ha elegido:\",PC)\n",
        "    time.sleep(0.4)\n",
        "    print(\" \")\n",
        "  elif YOU==\"papel\" and PC==\"piedra\": #AND:Es uno de los operadores lógicos de python y evalúa si el valor del lado izquierdo y el lado derecho se cumple.\n",
        "    print(\"HAS GANADO!. Has elegido\",YOU,\"y el pc ha elegido:\",PC)\n",
        "    time.sleep(0.4)\n",
        "    print(\" \")\n",
        "  elif YOU==\"tijera\" and PC==\"papel\":\n",
        "    print(\"HAS GANADO!. Has elegido\",YOU,\"y el pc ha elegido:\",PC)\n",
        "    time.sleep(0.4)\n",
        "    print(\" \")\n",
        "  else: #ELSE:Esta directamente relacionado con la sentencia if, ya que si esta condición no es verdadera ejecuta el bloque de código que tiene else;es importante tener en cuenta la sintaxis de else (else: )\n",
        "    print(\"Oh no,PERDISTE. Has elegido\",YOU,\"y el pc ha elegido:\",PC)\n",
        "    time.sleep(0.4)\n",
        "    print(\" \")"
      ],
      "metadata": {
        "id": "p3oP4n6yUd7u"
      },
      "execution_count": null,
      "outputs": []
    },
    {
      "cell_type": "markdown",
      "source": [],
      "metadata": {
        "id": "YGBn1-cSPzn2"
      }
    },
    {
      "cell_type": "code",
      "source": [
        "lista =[\"amarillo\", \"azul\", \"rojo\"] \n",
        "print(lista) \n",
        "del lista[1]  #del:Se usa para eliminar un objeto o un elemento de las funciones de phyton.\n",
        "print(lista)"
      ],
      "metadata": {
        "id": "HwV8GUlHP0Ad",
        "colab": {
          "base_uri": "https://localhost:8080/"
        },
        "outputId": "a520a557-db18-4faf-8414-279cad0e504d"
      },
      "execution_count": null,
      "outputs": [
        {
          "output_type": "stream",
          "name": "stdout",
          "text": [
            "['amarillo', 'azul', 'rojo']\n",
            "['amarillo', 'rojo']\n"
          ]
        }
      ]
    },
    {
      "cell_type": "markdown",
      "source": [
        "8"
      ],
      "metadata": {
        "id": "H5UzZsFhP_sN"
      }
    },
    {
      "cell_type": "code",
      "source": [
        "def f(x, y, z=1):\n",
        "  return (x+y) * z\n",
        "f(5, 6)\n",
        "f(5, 6, 7)\n",
        "f = lambda x, y, z=1: (x+y) * z #LAMBDA:Se usa para crear una función anónima\n",
        "f(5, 6)\n",
        "f(5, 6, 7)"
      ],
      "metadata": {
        "id": "1d4LRtpIQAN2",
        "colab": {
          "base_uri": "https://localhost:8080/"
        },
        "outputId": "3d3f7d2f-2d05-4266-db70-c423d97e10ad"
      },
      "execution_count": null,
      "outputs": [
        {
          "output_type": "execute_result",
          "data": {
            "text/plain": [
              "77"
            ]
          },
          "metadata": {},
          "execution_count": 11
        }
      ]
    },
    {
      "cell_type": "markdown",
      "source": [
        "9"
      ],
      "metadata": {
        "id": "KWOowEXZQAgV"
      }
    },
    {
      "cell_type": "code",
      "source": [
        "#global: se usa para modificar variables ya declaradas previamente\n",
        "paises = ['Brazil', 'Panama']\n",
        "\n",
        "def cambios():\n",
        "    global paises\n",
        "    paises = ['Brazil', 'Panama', 'Colombia', 'Venezuela']\n",
        "\n",
        "cambios()\n",
        "print(paises)\n",
        "print(paises[2])"
      ],
      "metadata": {
        "id": "AhpyWa1NQA1H",
        "colab": {
          "base_uri": "https://localhost:8080/"
        },
        "outputId": "f378b551-3937-499f-9879-f82702d6dea6"
      },
      "execution_count": null,
      "outputs": [
        {
          "output_type": "stream",
          "name": "stdout",
          "text": [
            "['Brazil', 'Panama', 'Colombia', 'Venezuela']\n",
            "Colombia\n"
          ]
        }
      ]
    },
    {
      "cell_type": "markdown",
      "source": [
        "10"
      ],
      "metadata": {
        "id": "XllTgKYLQBE1"
      }
    },
    {
      "cell_type": "code",
      "source": [
        "try:\n",
        "    x = 52/0.8\n",
        "except:\n",
        "    print(x)\n",
        "finally:\n",
        "    print(\"En matemáticas soy la mejor.\") #finally:Si ocurre algo que no este controlado, siempre siempre se ejecuta el bloque de código que tenga finally. "
      ],
      "metadata": {
        "id": "8dZjeUGUQBde",
        "colab": {
          "base_uri": "https://localhost:8080/"
        },
        "outputId": "8b8fea28-a1df-49f8-f101-1cdf56b8b110"
      },
      "execution_count": null,
      "outputs": [
        {
          "output_type": "stream",
          "name": "stdout",
          "text": [
            "En matemáticas soy la mejor.\n"
          ]
        }
      ]
    },
    {
      "cell_type": "markdown",
      "source": [
        "11\n"
      ],
      "metadata": {
        "id": "cAdVDHETQOmO"
      }
    },
    {
      "cell_type": "code",
      "source": [
        "def numeros_naturales():\n",
        "  n = 1\n",
        "  while True:\n",
        "    yield n\n",
        "    n += 1\n",
        "  for natural in numeros_naturales():\n",
        "    print(natural) #yield:Se usa dentro de una función al igual que ‘return’, salvo que ‘yield’ devuelve un generador. \n",
        "    "
      ],
      "metadata": {
        "id": "hL2Yq2IBQPOO"
      },
      "execution_count": null,
      "outputs": []
    },
    {
      "cell_type": "markdown",
      "source": [
        "12"
      ],
      "metadata": {
        "id": "eB4Qg8qdQ7Pd"
      }
    },
    {
      "cell_type": "code",
      "source": [
        "num=0\n",
        "while(num<10):\n",
        "  num=num+1\n",
        "  if num==8:\n",
        "    break #break: Se utiliza en el interior de los bucles for y while para romper su comportamiento normal\n",
        "  print(num)"
      ],
      "metadata": {
        "id": "U17OXp3TQ8JV",
        "colab": {
          "base_uri": "https://localhost:8080/"
        },
        "outputId": "f7449fbe-00bd-450e-ee04-8062a150a098"
      },
      "execution_count": null,
      "outputs": [
        {
          "output_type": "stream",
          "name": "stdout",
          "text": [
            "1\n",
            "2\n",
            "3\n",
            "4\n",
            "5\n",
            "6\n",
            "7\n"
          ]
        }
      ]
    },
    {
      "cell_type": "markdown",
      "source": [
        "13"
      ],
      "metadata": {
        "id": "jPs2cs0zQ8dN"
      }
    },
    {
      "cell_type": "code",
      "source": [
        "A=int(input(\"Ingrese un número \"))\n",
        "B=int(input(\"Ingrese otro número \"))\n",
        "if A%B is 0: # is:Se usa para probar si las dos variables se refieren al mismo objeto.\n",
        "  print(A,\"es múltiplo de \",B)\n",
        "else:\n",
        "  print(A,\"no es múltiplo de \",B)"
      ],
      "metadata": {
        "id": "OSyf74gVQ9_9",
        "colab": {
          "base_uri": "https://localhost:8080/"
        },
        "outputId": "01115de2-ad0e-4a78-ad6d-158092b34ac3"
      },
      "execution_count": null,
      "outputs": [
        {
          "output_type": "stream",
          "name": "stdout",
          "text": [
            "Ingrese un número 22\n",
            "Ingrese otro número 27\n",
            "22 no es múltiplo de  27\n"
          ]
        }
      ]
    },
    {
      "cell_type": "markdown",
      "source": [
        "14"
      ],
      "metadata": {
        "id": "gmJ1RUdfQ_pm"
      }
    },
    {
      "cell_type": "code",
      "source": [
        "import random as r #as: Se utiliza para crear un alias al importar un módulo.\n",
        "import time\n",
        "print(\"Bienvenido!,esto es PIEDRA, PAPEL, TIJERA, SPOCK, LAGARTO, PAPA, HEAVY\")\n",
        "print(\" \")\n",
        "\n",
        "while True:\n",
        "  YOU=input(\"Para empezar a jugar digita piedra, papel, tijera, spock, lagarto, papa o heavy - \").lower()\n",
        "  time.sleep(0.4) \n",
        "  PC=r.choice([\"piedra\", \"tijera\", \"papel\", \"spock\", \"lagarto\", \"papa\", \"heavy\"]) \n",
        "  time.sleep(0.4)\n",
        "  if YOU!=\"piedra\" and YOU!=\"papel\" and YOU!=\"tijera\" and YOU!=\"spock\" and YOU!=\"lagarto\" and YOU!=\"papa\" and YOU!=\"heavy\":\n",
        "    time.sleep(0.4)\n",
        "    print(\"OJO! Digita una opción valida\")\n",
        "    print(\" \")\n",
        "    continue \n",
        "\n",
        "  if YOU==PC:\n",
        "    print(\"\\U0001F922 EMPATE. Has elegido\",YOU,\"y el pc ha elegido:\",PC) \n",
        "    time.sleep(0.4)\n",
        "    print(\" \")\n",
        "  elif YOU==\"piedra\" and PC==\"tijera\":\n",
        "    print(\"HAS GANADO!. Has elegido\",YOU,\"y el pc ha elegido:\",PC)\n",
        "    time.sleep(0.4)\n",
        "    print(\" \")\n",
        "  elif YOU==\"papel\" and PC==\"piedra\":\n",
        "    print(\"HAS GANADO!. Has elegido\",YOU,\"y el pc ha elegido:\",PC)\n",
        "    time.sleep(0.4)\n",
        "    print(\" \")\n",
        "  elif YOU==\"tijera\" and PC==\"papel\":\n",
        "    print(\"HAS GANADO!. Has elegido\",YOU,\"y el pc ha elegido:\",PC)\n",
        "    time.sleep(0.4)\n",
        "    print(\" \")\n",
        "  elif YOU==\"piedra\" and PC==\"lagarto\":\n",
        "    print(\"HAS GANADO!. Has elegido\",YOU,\"y el pc ha elegido:\",PC)\n",
        "    time.sleep(0.4)\n",
        "    print(\" \")\n",
        "  elif YOU==\"lagarto\" and PC==\"spock\":\n",
        "    print(\"HAS GANADO!. Has elegido\",YOU,\"y el pc ha elegido:\",PC)\n",
        "    time.sleep(0.4)\n",
        "    print(\" \")\n",
        "  elif YOU==\"spock\" and PC==\"tijeras\":\n",
        "    print(\"HAS GANADO!. Has elegido\",YOU,\"y el pc ha elegido:\",PC)\n",
        "    time.sleep(0.4)\n",
        "    print(\" \")\n",
        "  elif YOU==\"tijera\" and PC==\"lagarto\":\n",
        "    print(\"HAS GANADO!. Has elegido\",YOU,\"y el pc ha elegido:\",PC)\n",
        "    time.sleep(0.4)\n",
        "    print(\" \")\n",
        "  elif YOU==\"lagarto\" and PC==\"papel\":\n",
        "    print(\"HAS GANADO!. Has elegido\",YOU,\"y el pc ha elegido:\",PC)\n",
        "    time.sleep(0.4)\n",
        "    print(\" \")\n",
        "  elif YOU==\"papel\" and PC==\"spock\":\n",
        "    print(\"HAS GANADO!. Has elegido\",YOU,\"y el pc ha elegido:\",PC)\n",
        "    time.sleep(0.4)\n",
        "    print(\" \")\n",
        "  elif YOU==\"spock\" and PC==\"piedra\":\n",
        "    print(\"HAS GANADO!. Has elegido\",YOU,\"y el pc ha elegido:\",PC)\n",
        "    time.sleep(0.4)\n",
        "    print(\" \")\n",
        "  elif YOU==\"heavy\" and PC==\"papa\":\n",
        "    print(\"HAS GANADO!. Has elegido\",YOU,\"y el pc ha elegido:\",PC)\n",
        "    time.sleep(0.4)\n",
        "    print(\" \")\n",
        "  elif YOU==\"heavy\" and PC==\"lagarto\":\n",
        "    print(\"HAS GANADO!. Has elegido\",YOU,\"y el pc ha elegido:\",PC)\n",
        "    time.sleep(0.4)\n",
        "    print(\" \")\n",
        "  elif YOU==\"papa\" and PC==\"piedra\":\n",
        "    print(\"HAS GANADO!. Has elegido\",YOU,\"y el pc ha elegido:\",PC)\n",
        "    time.sleep(0.4)\n",
        "    print(\" \")\n",
        "  elif YOU==\"papa\" and PC==\"papel\":\n",
        "    print(\"HAS GANADO!. Has elegido\",YOU,\"y el pc ha elegido:\",PC)\n",
        "    time.sleep(0.4)\n",
        "    print(\" \")\n",
        "  \n",
        "  else:\n",
        "    print(\"Oh no,PERDISTE. Has elegido\",YOU,\"y el pc ha elegido:\",PC)\n",
        "    time.sleep(0.4)\n",
        "    print(\" \")"
      ],
      "metadata": {
        "id": "4aesCgKdVBXl"
      },
      "execution_count": null,
      "outputs": []
    },
    {
      "cell_type": "markdown",
      "source": [
        "15"
      ],
      "metadata": {
        "id": "B7ZmSfjdRA8-"
      }
    },
    {
      "cell_type": "code",
      "source": [
        "a = 0\n",
        "def outr():\n",
        "    a = 1\n",
        "    def innr():\n",
        "        nonlocal a  #nonlocal:indica que la variable dada sobre la que se trabaja no pertenece localmente a la función anidada dada. Sin embargo, esto no significa que la variable especificada con la palabra clave nonlocal sea una variable global.\n",
        "        a = 2\n",
        "        print(\"Variable Interna:\", a)\n",
        "    innr()\n",
        "    print(\"Variable Exterior:\", a)\n",
        "outr()\n",
        "print(\"Variable Global:\", a)"
      ],
      "metadata": {
        "id": "JHQIl7FrRBjd",
        "colab": {
          "base_uri": "https://localhost:8080/"
        },
        "outputId": "ed953406-ec14-4c8f-dd66-e01d655d853d"
      },
      "execution_count": null,
      "outputs": [
        {
          "output_type": "stream",
          "name": "stdout",
          "text": [
            "Variable Interna: 2\n",
            "Variable Exterior: 2\n",
            "Variable Global: 0\n"
          ]
        }
      ]
    },
    {
      "cell_type": "markdown",
      "source": [
        "16"
      ],
      "metadata": {
        "id": "ZoxYRvyzRC75"
      }
    },
    {
      "cell_type": "code",
      "source": [
        "num=0\n",
        "while(num<10):\n",
        "  num=num+1\n",
        "  if num==8:\n",
        "    break #break: Se utiliza en el interior de los bucles for y while para romper su comportamiento normal\n",
        "  print(num)"
      ],
      "metadata": {
        "id": "-A3NG4nRRqb1",
        "colab": {
          "base_uri": "https://localhost:8080/"
        },
        "outputId": "09dd7c26-dcd1-4d93-85bc-de66781dde66"
      },
      "execution_count": null,
      "outputs": [
        {
          "output_type": "stream",
          "name": "stdout",
          "text": [
            "1\n",
            "2\n",
            "3\n",
            "4\n",
            "5\n",
            "6\n",
            "7\n"
          ]
        }
      ]
    },
    {
      "cell_type": "markdown",
      "source": [
        "17"
      ],
      "metadata": {
        "id": "YsQRDik1RG0H"
      }
    },
    {
      "cell_type": "code",
      "source": [
        "with EXPRESSION as TARGET: #with:Se usa para simplificar el manejo de excepciones\n",
        "    SUITE"
      ],
      "metadata": {
        "id": "175uBGWiVQn9"
      },
      "execution_count": null,
      "outputs": []
    },
    {
      "cell_type": "markdown",
      "source": [
        "18"
      ],
      "metadata": {
        "id": "9nXPisFtRIRO"
      }
    },
    {
      "cell_type": "code",
      "source": [
        "a=5\n",
        "b=0\n",
        "\n",
        "def division(a, b): #raise:Se usa para crear excepciones, qué hacer cuando ocurre una excepción, igual que ‘except y ‘try’\n",
        "    try:\n",
        "        return a / b\n",
        "    except ZeroDivisionError as ex:\n",
        "        raise ValueError('b must not zero')\n",
        "\n",
        "division(a, b)"
      ],
      "metadata": {
        "id": "dCxsR8c9VLX9"
      },
      "execution_count": null,
      "outputs": []
    }
  ]
}